version https://git-lfs.github.com/spec/v1
oid sha256:ffafa9170cf32290313c3ee0972b8688a652ea29f5a5fa61825d7c970d5e1a32
size 1269664
