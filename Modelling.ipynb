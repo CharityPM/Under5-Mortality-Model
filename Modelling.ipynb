{
 "cells": [
  {
   "cell_type": "markdown",
   "id": "4f621e43",
   "metadata": {},
   "source": [
    "# Baseline Model"
   ]
  },
  {
   "cell_type": "code",
   "execution_count": 1,
   "id": "238cdb51",
   "metadata": {},
   "outputs": [],
   "source": [
    "import pandas as pd\n",
    "import numpy as np\n",
    "import matplotlib.pyplot as plt\n",
    "from sklearn.preprocessing import OneHotEncoder, StandardScaler\n",
    "from imblearn.over_sampling   import SMOTE\n",
    "from sklearn.model_selection import train_test_split\n",
    "from sklearn.metrics import accuracy_score, f1_score, confusion_matrix, classification_report, roc_auc_score, precision_recall_curve, auc, fbeta_score\n",
    "from sklearn.linear_model import LogisticRegression\n",
    "import seaborn as sns\n",
    "from sklearn.compose import ColumnTransformer\n",
    "from imblearn.pipeline import Pipeline"
   ]
  },
  {
   "cell_type": "code",
   "execution_count": 2,
   "id": "e5ce6b37",
   "metadata": {},
   "outputs": [],
   "source": [
    "df=pd.read_csv('u5mr_clean.csv')"
   ]
  },
  {
   "cell_type": "code",
   "execution_count": 3,
   "id": "ec087db5",
   "metadata": {},
   "outputs": [],
   "source": [
    "# Make a safe working copy\n",
    "df = df.copy()\n",
    "\n",
    "# Object ID\n",
    "df['CASEID'] = df['CASEID'].astype('object')\n",
    "\n",
    "# Continuous floats\n",
    "float_vars = [\n",
    "    'Age in 5-year groups',\n",
    "    'Birth weight in kilograms (3 decimals)',\n",
    "    'Childs weight in kilograms (1 decimal)',\n",
    "    'Childs height in centimeters (1 decimal)',\n",
    "    'Months of breastfeeding',\n",
    "    'When child put to breast',\n",
    "    'Height/Age standard deviation (new WHO)',\n",
    "    'Weight/Age standard deviation (new WHO)',\n",
    "    'Weight/Height standard deviation (new WHO)'\n",
    "]\n",
    "df[float_vars] = df[float_vars].apply(pd.to_numeric, errors=\"coerce\").astype('float64')\n",
    "\n",
    "# Discrete ints (nullable safe type)\n",
    "int_vars = [\n",
    "    'Number of household members (listed)',\n",
    "    'Birth order number',\n",
    "    'Preceding birth interval (months)',\n",
    "    'Succeeding birth interval (months)',\n",
    "    'Duration of pregnancy in months',\n",
    "    'Timing of 1st antenatal check (months)',\n",
    "    'Number of antenatal visits during pregnancy',\n",
    "    'Entries in pregnancy and postnatal care roster',\n",
    "    'Minutes to nearest healthcare facility',\n",
    "    'Number of tetanus injections before birth',\n",
    "    'Number of tetanus injections before pregnancy'\n",
    "]\n",
    "df[int_vars] = df[int_vars].apply(pd.to_numeric, errors=\"coerce\").astype('Int64')\n",
    "\n",
    "# Categorical (nominal/ordinal)\n",
    "cat_vars = [\n",
    "    'Region',\n",
    "    'Type of place of residence',\n",
    "    'Highest educational level',\n",
    "    'Religion',\n",
    "    'Ethnicity',\n",
    "    'Wealth index combined',\n",
    "    'Type of cooking fuel (smoke exposure, indoor air pollution)',\n",
    "    'Sex of child',\n",
    "    'Place of delivery',\n",
    "    'Size of child at birth',\n",
    "    'Has health card and or other vaccination document',\n",
    "    'Ever had vaccination',\n",
    "    'Place where most vaccinations were received',\n",
    "    'Yellow fever vaccine',\n",
    "    'Currently breastfeeding',\n",
    "    'Given child anything other than breast milk',\n",
    "    'In contact with someone with cough or TB',\n",
    "    'Source of drinking water',\n",
    "    'Main floor material',\n",
    "    'Visited health facility last 12 months',\n",
    "    'Getting medical help for self: distance to health facility',\n",
    "    'Mode of transportation to nearest healthcare facility',\n",
    "]\n",
    "df[cat_vars] = df[cat_vars].astype('category')"
   ]
  },
  {
   "cell_type": "code",
   "execution_count": 4,
   "id": "d7a58969",
   "metadata": {},
   "outputs": [
    {
     "data": {
      "text/plain": [
       "Index(['CASEID', 'Age in 5-year groups', 'Region',\n",
       "       'Type of place of residence', 'Highest educational level', 'Religion',\n",
       "       'Ethnicity', 'Number of household members (listed)',\n",
       "       'Wealth index combined',\n",
       "       'Type of cooking fuel (smoke exposure, indoor air pollution)',\n",
       "       ...\n",
       "       'Received inactivated polio (IPV)_missing',\n",
       "       'Received Rotavirus 2_missing',\n",
       "       'Place where most vaccinations were received_missing',\n",
       "       'Yellow fever vaccine_missing',\n",
       "       'Given child anything other than breast milk_missing',\n",
       "       'Visited health facility last 12 months_missing',\n",
       "       'Getting medical help for self: distance to health facility_missing',\n",
       "       'Mode of transportation to nearest healthcare facility_missing',\n",
       "       'prenatal_help_missing', 'delivery_help_missing'],\n",
       "      dtype='object', length=104)"
      ]
     },
     "execution_count": 4,
     "metadata": {},
     "output_type": "execute_result"
    }
   ],
   "source": [
    "df.columns"
   ]
  },
  {
   "cell_type": "markdown",
   "id": "f95300b5",
   "metadata": {},
   "source": [
    "## Feature Engineering"
   ]
  },
  {
   "cell_type": "code",
   "execution_count": 5,
   "id": "ff5470ad",
   "metadata": {},
   "outputs": [],
   "source": [
    "# pattern to drop all columns that end with '_missing' or contain 'vaccine'\n",
    "leakage_cols = [col for col in df.columns\n",
    "                if col.endswith('_missing')\n",
    "                or 'vaccine' in col.lower()\n",
    "                or 'Received' in col]\n",
    "\n",
    "# explicitly drop known outcome columns\n",
    "outcome_cols = [\n",
    "    'under5_mortality','infant_mortality','neonatal_mortality',\n",
    "    'mortality_category'\n",
    "]"
   ]
  },
  {
   "cell_type": "code",
   "execution_count": 6,
   "id": "18a1a872",
   "metadata": {},
   "outputs": [
    {
     "data": {
      "text/plain": [
       "['Received BCG',\n",
       " 'Received POLIO 1',\n",
       " 'Received POLIO 2',\n",
       " 'Received POLIO 3',\n",
       " 'Received POLIO 0',\n",
       " 'Received MEASLES 1',\n",
       " 'Received MEASLES 2',\n",
       " 'Received Pentavalent 1',\n",
       " 'Received Pentavalent 2',\n",
       " 'Received Pentavalent 3',\n",
       " 'Received Pneumococcal 1',\n",
       " 'Received Pneumococcal 2',\n",
       " 'Received Pneumococcal 3',\n",
       " 'Received Rotavirus 1',\n",
       " 'Received inactivated polio (IPV)',\n",
       " 'Received Rotavirus 2',\n",
       " 'Yellow fever vaccine',\n",
       " 'Preceding birth interval (months)_missing',\n",
       " 'Succeeding birth interval (months)_missing',\n",
       " 'Timing of 1st antenatal check (months)_missing',\n",
       " 'Number of antenatal visits during pregnancy_missing',\n",
       " 'Birth weight in kilograms (3 decimals)_missing',\n",
       " 'Ever had vaccination_missing',\n",
       " 'Months of breastfeeding_missing',\n",
       " 'When child put to breast_missing',\n",
       " 'Minutes to nearest healthcare facility_missing',\n",
       " 'Number of tetanus injections before birth_missing',\n",
       " 'Number of tetanus injections before pregnancy_missing',\n",
       " 'Place of delivery_missing',\n",
       " 'Size of child at birth_missing',\n",
       " 'Has health card and or other vaccination document_missing',\n",
       " 'Received BCG_missing',\n",
       " 'Received POLIO 1_missing',\n",
       " 'Received POLIO 2_missing',\n",
       " 'Received POLIO 3_missing',\n",
       " 'Received POLIO 0_missing',\n",
       " 'Received MEASLES 1_missing',\n",
       " 'Received MEASLES 2_missing',\n",
       " 'Received Pentavalent 1_missing',\n",
       " 'Received Pentavalent 2_missing',\n",
       " 'Received Pentavalent 3_missing',\n",
       " 'Received Pneumococcal 1_missing',\n",
       " 'Received Pneumococcal 2_missing',\n",
       " 'Received Pneumococcal 3_missing',\n",
       " 'Received Rotavirus 1_missing',\n",
       " 'Received inactivated polio (IPV)_missing',\n",
       " 'Received Rotavirus 2_missing',\n",
       " 'Place where most vaccinations were received_missing',\n",
       " 'Yellow fever vaccine_missing',\n",
       " 'Given child anything other than breast milk_missing',\n",
       " 'Visited health facility last 12 months_missing',\n",
       " 'Getting medical help for self: distance to health facility_missing',\n",
       " 'Mode of transportation to nearest healthcare facility_missing',\n",
       " 'prenatal_help_missing',\n",
       " 'delivery_help_missing']"
      ]
     },
     "execution_count": 6,
     "metadata": {},
     "output_type": "execute_result"
    }
   ],
   "source": [
    "leakage_cols"
   ]
  },
  {
   "cell_type": "code",
   "execution_count": 7,
   "id": "25960467",
   "metadata": {},
   "outputs": [],
   "source": [
    "## Handle skewed numeric features\n",
    "# Log transform household size to reduce right skew\n",
    "if 'Number of household members (listed)' in df.columns:\n",
    "    df['log_household_size'] = np.log1p(df['Number of household members (listed)'])"
   ]
  },
  {
   "cell_type": "code",
   "execution_count": 8,
   "id": "9beb608b",
   "metadata": {},
   "outputs": [],
   "source": [
    "# Socioeconomic score: combine wealth + education (if both exist and numeric/categorical)\n",
    "if {'Wealth index combined','Highest educational level'}.issubset(df.columns):\n",
    "    # Ensure we have numeric codes for both\n",
    "    df['Wealth index combined'] = df['Wealth index combined'].astype('category').cat.codes\n",
    "    df['Highest educational level'] = df['Highest educational level'].astype('category').cat.codes\n",
    "    df['socioeconomic'] = (df['Wealth index combined']\n",
    "                           + df['Highest educational level'])"
   ]
  },
  {
   "cell_type": "code",
   "execution_count": 9,
   "id": "86e476d9",
   "metadata": {},
   "outputs": [],
   "source": [
    "# Interval features\n",
    "if 'Preceding birth interval (months)' in df.columns:\n",
    "    df['short_birth_interval'] = (\n",
    "        df['Preceding birth interval (months)'] < 24\n",
    "    ).astype(int)"
   ]
  },
  {
   "cell_type": "code",
   "execution_count": 10,
   "id": "bfc3f933",
   "metadata": {},
   "outputs": [],
   "source": [
    "for col in ['Ethnicity', 'Religion']:\n",
    "    if col in df.columns:\n",
    "        # ensure it's plain string, not Categorical\n",
    "        df[col] = df[col].astype(str)\n",
    "\n",
    "        counts = df[col].value_counts()\n",
    "        rare = counts[counts < 50].index\n",
    "\n",
    "        # replace all rare categories with \"Other\"\n",
    "        df[col] = df[col].replace(list(rare), 'Other')\n"
   ]
  },
  {
   "cell_type": "code",
   "execution_count": 11,
   "id": "7e7e1de9",
   "metadata": {},
   "outputs": [],
   "source": [
    "X = df.drop(columns=leakage_cols + outcome_cols + ['CASEID'])"
   ]
  },
  {
   "cell_type": "code",
   "execution_count": 12,
   "id": "b909086b",
   "metadata": {},
   "outputs": [
    {
     "name": "stdout",
     "output_type": "stream",
     "text": [
      "[('Number of household members (listed)', 'log_household_size'), ('Wealth index combined', 'socioeconomic'), ('Childs weight in kilograms (1 decimal)', 'Childs height in centimeters (1 decimal)')]\n"
     ]
    }
   ],
   "source": [
    "corr = X.corr(numeric_only=True).abs()\n",
    "high_corr = np.where(corr > 0.9)\n",
    "pairs = [(corr.index[i], corr.columns[j])\n",
    "         for i,j in zip(*high_corr)\n",
    "         if i < j]\n",
    "print(pairs)"
   ]
  },
  {
   "cell_type": "code",
   "execution_count": 13,
   "id": "127cc6e0",
   "metadata": {},
   "outputs": [],
   "source": [
    "# create BMI column\n",
    "df['child_BMI'] = df['Childs weight in kilograms (1 decimal)'] / (\n",
    "    (df['Childs height in centimeters (1 decimal)'] / 100) ** 2\n",
    ")\n",
    "\n",
    "# drop originals to avoid multicollinearity\n",
    "df = df.drop(columns=[\n",
    "    'Childs weight in kilograms (1 decimal)',\n",
    "    'Childs height in centimeters (1 decimal)',\n",
    "    'Number of household members (listed)',\n",
    "    'Wealth index combined'\n",
    "])\n",
    "df['child_BMI'] = df['child_BMI'].round(2)"
   ]
  },
  {
   "cell_type": "code",
   "execution_count": 14,
   "id": "4ba96a4b",
   "metadata": {},
   "outputs": [
    {
     "name": "stdout",
     "output_type": "stream",
     "text": [
      "Feature engineering complete. New shape: (19530, 104)\n"
     ]
    }
   ],
   "source": [
    "print(\"Feature engineering complete. New shape:\", df.shape)"
   ]
  },
  {
   "cell_type": "code",
   "execution_count": 15,
   "id": "29658c53",
   "metadata": {},
   "outputs": [
    {
     "data": {
      "text/html": [
       "<div>\n",
       "<style scoped>\n",
       "    .dataframe tbody tr th:only-of-type {\n",
       "        vertical-align: middle;\n",
       "    }\n",
       "\n",
       "    .dataframe tbody tr th {\n",
       "        vertical-align: top;\n",
       "    }\n",
       "\n",
       "    .dataframe thead th {\n",
       "        text-align: right;\n",
       "    }\n",
       "</style>\n",
       "<table border=\"1\" class=\"dataframe\">\n",
       "  <thead>\n",
       "    <tr style=\"text-align: right;\">\n",
       "      <th></th>\n",
       "      <th>CASEID</th>\n",
       "      <th>Age in 5-year groups</th>\n",
       "      <th>Region</th>\n",
       "      <th>Type of place of residence</th>\n",
       "      <th>Highest educational level</th>\n",
       "      <th>Religion</th>\n",
       "      <th>Ethnicity</th>\n",
       "      <th>Type of cooking fuel (smoke exposure, indoor air pollution)</th>\n",
       "      <th>Birth order number</th>\n",
       "      <th>Sex of child</th>\n",
       "      <th>...</th>\n",
       "      <th>Given child anything other than breast milk_missing</th>\n",
       "      <th>Visited health facility last 12 months_missing</th>\n",
       "      <th>Getting medical help for self: distance to health facility_missing</th>\n",
       "      <th>Mode of transportation to nearest healthcare facility_missing</th>\n",
       "      <th>prenatal_help_missing</th>\n",
       "      <th>delivery_help_missing</th>\n",
       "      <th>log_household_size</th>\n",
       "      <th>socioeconomic</th>\n",
       "      <th>short_birth_interval</th>\n",
       "      <th>child_BMI</th>\n",
       "    </tr>\n",
       "  </thead>\n",
       "  <tbody>\n",
       "    <tr>\n",
       "      <th>0</th>\n",
       "      <td>1   4  2</td>\n",
       "      <td>4.0</td>\n",
       "      <td>1.0</td>\n",
       "      <td>1.0</td>\n",
       "      <td>0</td>\n",
       "      <td>7.0</td>\n",
       "      <td>11.0</td>\n",
       "      <td>2.0</td>\n",
       "      <td>4</td>\n",
       "      <td>1.0</td>\n",
       "      <td>...</td>\n",
       "      <td>0</td>\n",
       "      <td>0</td>\n",
       "      <td>0</td>\n",
       "      <td>0</td>\n",
       "      <td>0</td>\n",
       "      <td>0</td>\n",
       "      <td>1.94591</td>\n",
       "      <td>3</td>\n",
       "      <td>0</td>\n",
       "      <td>1.92</td>\n",
       "    </tr>\n",
       "    <tr>\n",
       "      <th>1</th>\n",
       "      <td>1  13  2</td>\n",
       "      <td>5.0</td>\n",
       "      <td>1.0</td>\n",
       "      <td>1.0</td>\n",
       "      <td>2</td>\n",
       "      <td>1.0</td>\n",
       "      <td>3.0</td>\n",
       "      <td>2.0</td>\n",
       "      <td>5</td>\n",
       "      <td>2.0</td>\n",
       "      <td>...</td>\n",
       "      <td>1</td>\n",
       "      <td>0</td>\n",
       "      <td>0</td>\n",
       "      <td>0</td>\n",
       "      <td>1</td>\n",
       "      <td>1</td>\n",
       "      <td>2.197225</td>\n",
       "      <td>6</td>\n",
       "      <td>0</td>\n",
       "      <td>1.79</td>\n",
       "    </tr>\n",
       "    <tr>\n",
       "      <th>2</th>\n",
       "      <td>1  26  2</td>\n",
       "      <td>3.0</td>\n",
       "      <td>1.0</td>\n",
       "      <td>1.0</td>\n",
       "      <td>2</td>\n",
       "      <td>3.0</td>\n",
       "      <td>3.0</td>\n",
       "      <td>2.0</td>\n",
       "      <td>3</td>\n",
       "      <td>1.0</td>\n",
       "      <td>...</td>\n",
       "      <td>1</td>\n",
       "      <td>0</td>\n",
       "      <td>0</td>\n",
       "      <td>0</td>\n",
       "      <td>1</td>\n",
       "      <td>1</td>\n",
       "      <td>1.791759</td>\n",
       "      <td>5</td>\n",
       "      <td>1</td>\n",
       "      <td>1.45</td>\n",
       "    </tr>\n",
       "    <tr>\n",
       "      <th>3</th>\n",
       "      <td>1  42  1</td>\n",
       "      <td>4.0</td>\n",
       "      <td>1.0</td>\n",
       "      <td>1.0</td>\n",
       "      <td>2</td>\n",
       "      <td>4.0</td>\n",
       "      <td>3.0</td>\n",
       "      <td>2.0</td>\n",
       "      <td>1</td>\n",
       "      <td>2.0</td>\n",
       "      <td>...</td>\n",
       "      <td>1</td>\n",
       "      <td>1</td>\n",
       "      <td>1</td>\n",
       "      <td>1</td>\n",
       "      <td>1</td>\n",
       "      <td>1</td>\n",
       "      <td>1.386294</td>\n",
       "      <td>6</td>\n",
       "      <td>0</td>\n",
       "      <td>1.40</td>\n",
       "    </tr>\n",
       "    <tr>\n",
       "      <th>4</th>\n",
       "      <td>1  55  2</td>\n",
       "      <td>4.0</td>\n",
       "      <td>1.0</td>\n",
       "      <td>1.0</td>\n",
       "      <td>2</td>\n",
       "      <td>2.0</td>\n",
       "      <td>3.0</td>\n",
       "      <td>2.0</td>\n",
       "      <td>2</td>\n",
       "      <td>1.0</td>\n",
       "      <td>...</td>\n",
       "      <td>1</td>\n",
       "      <td>1</td>\n",
       "      <td>1</td>\n",
       "      <td>1</td>\n",
       "      <td>0</td>\n",
       "      <td>0</td>\n",
       "      <td>1.609438</td>\n",
       "      <td>6</td>\n",
       "      <td>1</td>\n",
       "      <td>1.69</td>\n",
       "    </tr>\n",
       "  </tbody>\n",
       "</table>\n",
       "<p>5 rows × 104 columns</p>\n",
       "</div>"
      ],
      "text/plain": [
       "            CASEID  Age in 5-year groups Region Type of place of residence  \\\n",
       "0         1   4  2                   4.0    1.0                        1.0   \n",
       "1         1  13  2                   5.0    1.0                        1.0   \n",
       "2         1  26  2                   3.0    1.0                        1.0   \n",
       "3         1  42  1                   4.0    1.0                        1.0   \n",
       "4         1  55  2                   4.0    1.0                        1.0   \n",
       "\n",
       "   Highest educational level Religion Ethnicity  \\\n",
       "0                          0      7.0      11.0   \n",
       "1                          2      1.0       3.0   \n",
       "2                          2      3.0       3.0   \n",
       "3                          2      4.0       3.0   \n",
       "4                          2      2.0       3.0   \n",
       "\n",
       "  Type of cooking fuel (smoke exposure, indoor air pollution)  \\\n",
       "0                                                2.0            \n",
       "1                                                2.0            \n",
       "2                                                2.0            \n",
       "3                                                2.0            \n",
       "4                                                2.0            \n",
       "\n",
       "   Birth order number Sex of child  ...  \\\n",
       "0                   4          1.0  ...   \n",
       "1                   5          2.0  ...   \n",
       "2                   3          1.0  ...   \n",
       "3                   1          2.0  ...   \n",
       "4                   2          1.0  ...   \n",
       "\n",
       "   Given child anything other than breast milk_missing  \\\n",
       "0                                                  0     \n",
       "1                                                  1     \n",
       "2                                                  1     \n",
       "3                                                  1     \n",
       "4                                                  1     \n",
       "\n",
       "   Visited health facility last 12 months_missing  \\\n",
       "0                                               0   \n",
       "1                                               0   \n",
       "2                                               0   \n",
       "3                                               1   \n",
       "4                                               1   \n",
       "\n",
       "   Getting medical help for self: distance to health facility_missing  \\\n",
       "0                                                  0                    \n",
       "1                                                  0                    \n",
       "2                                                  0                    \n",
       "3                                                  1                    \n",
       "4                                                  1                    \n",
       "\n",
       "   Mode of transportation to nearest healthcare facility_missing  \\\n",
       "0                                                  0               \n",
       "1                                                  0               \n",
       "2                                                  0               \n",
       "3                                                  1               \n",
       "4                                                  1               \n",
       "\n",
       "   prenatal_help_missing delivery_help_missing log_household_size  \\\n",
       "0                      0                     0            1.94591   \n",
       "1                      1                     1           2.197225   \n",
       "2                      1                     1           1.791759   \n",
       "3                      1                     1           1.386294   \n",
       "4                      0                     0           1.609438   \n",
       "\n",
       "   socioeconomic short_birth_interval  child_BMI  \n",
       "0              3                    0       1.92  \n",
       "1              6                    0       1.79  \n",
       "2              5                    1       1.45  \n",
       "3              6                    0       1.40  \n",
       "4              6                    1       1.69  \n",
       "\n",
       "[5 rows x 104 columns]"
      ]
     },
     "execution_count": 15,
     "metadata": {},
     "output_type": "execute_result"
    }
   ],
   "source": [
    "df.head()"
   ]
  },
  {
   "cell_type": "markdown",
   "id": "dac70e9a",
   "metadata": {},
   "source": [
    "## Baseline Logistic model"
   ]
  },
  {
   "cell_type": "code",
   "execution_count": 16,
   "id": "361b488d",
   "metadata": {},
   "outputs": [],
   "source": [
    "cat_cols = X.select_dtypes(include=['object','category']).columns\n",
    "num_cols = X.select_dtypes(exclude=['object','category']).columns"
   ]
  },
  {
   "cell_type": "code",
   "execution_count": 17,
   "id": "bb00ab6d",
   "metadata": {},
   "outputs": [
    {
     "data": {
      "text/plain": [
       "Index(['Region', 'Type of place of residence', 'Religion', 'Ethnicity',\n",
       "       'Type of cooking fuel (smoke exposure, indoor air pollution)',\n",
       "       'Sex of child', 'Place of delivery', 'Size of child at birth',\n",
       "       'Has health card and or other vaccination document',\n",
       "       'Ever had vaccination', 'Place where most vaccinations were received',\n",
       "       'Currently breastfeeding',\n",
       "       'Given child anything other than breast milk',\n",
       "       'In contact with someone with cough or TB', 'Source of drinking water',\n",
       "       'Main floor material', 'Visited health facility last 12 months',\n",
       "       'Getting medical help for self: distance to health facility',\n",
       "       'Mode of transportation to nearest healthcare facility',\n",
       "       'prenatal_help', 'delivery_help'],\n",
       "      dtype='object')"
      ]
     },
     "execution_count": 17,
     "metadata": {},
     "output_type": "execute_result"
    }
   ],
   "source": [
    "\n",
    "cat_cols"
   ]
  },
  {
   "cell_type": "code",
   "execution_count": 18,
   "id": "3a00bead",
   "metadata": {},
   "outputs": [],
   "source": [
    "# Preprocessing: scale numeric + one-hot encode categoricals\n",
    "preprocessor = ColumnTransformer([\n",
    "    ('num', StandardScaler(), num_cols),\n",
    "    ('cat', OneHotEncoder(handle_unknown='ignore'), cat_cols)\n",
    "])\n",
    "\n",
    "baseline_pipe = Pipeline([\n",
    "    ('preprocessor', preprocessor),\n",
    "    ('logreg', LogisticRegression(max_iter=1000))\n",
    "])"
   ]
  },
  {
   "cell_type": "code",
   "execution_count": 19,
   "id": "28d4c390",
   "metadata": {},
   "outputs": [],
   "source": [
    "def baseline_logistic(X, y, target_name):\n",
    "    # Split\n",
    "    X_train, X_test, y_train, y_test = train_test_split(\n",
    "        X, y, test_size=0.2, random_state=42, stratify=y\n",
    "    )\n",
    "\n",
    "    # Fit baseline model\n",
    "    baseline_pipe.fit(X_train, y_train)\n",
    "\n",
    "    # Predictions\n",
    "    y_pred  = baseline_pipe.predict(X_test)\n",
    "    y_proba = baseline_pipe.predict_proba(X_test)[:, 1]  # for AUC metrics\n",
    "\n",
    "    # --- Evaluation ---\n",
    "    print(f\"\\n--- Baseline Logistic Regression: {target_name} ---\")\n",
    "    print(f\"Accuracy: {accuracy_score(y_test, y_pred):.3f}\")\n",
    "    print(classification_report(y_test, y_pred, digits=3))\n",
    "\n",
    "    # F2 score\n",
    "    f2 = fbeta_score(y_test, y_pred, beta=2)\n",
    "    print(f\"F2 Score: {f2:.3f}\")\n",
    "\n",
    "    # ROC-AUC\n",
    "    roc = roc_auc_score(y_test, y_proba)\n",
    "    print(f\"ROC-AUC: {roc:.3f}\")\n",
    "\n",
    "    # Precision–Recall AUC\n",
    "    precision, recall, _ = precision_recall_curve(y_test, y_proba)\n",
    "    pr_auc = auc(recall, precision)\n",
    "    print(f\"PR-AUC: {pr_auc:.3f}\")\n",
    "\n",
    "    # Confusion matrix plot\n",
    "    cm = confusion_matrix(y_test, y_pred)\n",
    "    plt.figure(figsize=(4,3))\n",
    "    sns.heatmap(cm, annot=True, fmt='d', cmap='Blues',\n",
    "                xticklabels=['Pred 0','Pred 1'],\n",
    "                yticklabels=['True 0','True 1'])\n",
    "    plt.title(f\"Confusion Matrix: {target_name}\")\n",
    "    plt.show()"
   ]
  },
  {
   "cell_type": "code",
   "execution_count": 20,
   "id": "7aee66b0",
   "metadata": {},
   "outputs": [
    {
     "name": "stdout",
     "output_type": "stream",
     "text": [
      "\n",
      "--- Baseline Logistic Regression: Under-5 Mortality ---\n",
      "Accuracy: 0.979\n",
      "              precision    recall  f1-score   support\n",
      "\n",
      "           0      0.987     0.991     0.989      3767\n",
      "           1      0.734     0.655     0.692       139\n",
      "\n",
      "    accuracy                          0.979      3906\n",
      "   macro avg      0.861     0.823     0.841      3906\n",
      "weighted avg      0.978     0.979     0.979      3906\n",
      "\n",
      "F2 Score: 0.669\n",
      "ROC-AUC: 0.988\n",
      "PR-AUC: 0.737\n"
     ]
    },
    {
     "data": {
      "image/png": "[encoded data removed]",
      "text/plain": [
       "<Figure size 400x300 with 2 Axes>"
      ]
     },
     "metadata": {},
     "output_type": "display_data"
    },
    {
     "name": "stdout",
     "output_type": "stream",
     "text": [
      "\n",
      "--- Baseline Logistic Regression: Infant Mortality ---\n",
      "Accuracy: 0.990\n",
      "              precision    recall  f1-score   support\n",
      "\n",
      "           0      0.991     0.999     0.995      3870\n",
      "           1      0.167     0.028     0.048        36\n",
      "\n",
      "    accuracy                          0.990      3906\n",
      "   macro avg      0.579     0.513     0.521      3906\n",
      "weighted avg      0.983     0.990     0.986      3906\n",
      "\n",
      "F2 Score: 0.033\n",
      "ROC-AUC: 0.971\n",
      "PR-AUC: 0.187\n"
     ]
    },
    {
     "data": {
      "image/png": "[encoded data removed]",
      "text/plain": [
       "<Figure size 400x300 with 2 Axes>"
      ]
     },
     "metadata": {},
     "output_type": "display_data"
    },
    {
     "name": "stdout",
     "output_type": "stream",
     "text": [
      "\n",
      "--- Baseline Logistic Regression: Neonatal Mortality ---\n",
      "Accuracy: 0.984\n",
      "              precision    recall  f1-score   support\n",
      "\n",
      "           0      0.988     0.996     0.992      3819\n",
      "           1      0.741     0.460     0.567        87\n",
      "\n",
      "    accuracy                          0.984      3906\n",
      "   macro avg      0.864     0.728     0.780      3906\n",
      "weighted avg      0.982     0.984     0.983      3906\n",
      "\n",
      "F2 Score: 0.498\n",
      "ROC-AUC: 0.985\n",
      "PR-AUC: 0.655\n"
     ]
    },
    {
     "data": {
      "image/png": "[encoded data removed]",
      "text/plain": [
       "<Figure size 400x300 with 2 Axes>"
      ]
     },
     "metadata": {},
     "output_type": "display_data"
    }
   ],
   "source": [
    "baseline_logistic(X, df['under5_mortality'], 'Under-5 Mortality')\n",
    "baseline_logistic(X, df['infant_mortality'], 'Infant Mortality')\n",
    "baseline_logistic(X, df['neonatal_mortality'], 'Neonatal Mortality')"
   ]
  },
  {
   "cell_type": "markdown",
   "id": "19ad2aca",
   "metadata": {},
   "source": [
    "## Logistic Regression with SMOTE"
   ]
  },
  {
   "cell_type": "code",
   "execution_count": 21,
   "id": "de9e3b84",
   "metadata": {},
   "outputs": [],
   "source": [
    "smote_pipe = Pipeline([\n",
    "    ('preprocessor', preprocessor),      # <--- reuse the preprocessor you just built\n",
    "    ('smote', SMOTE(random_state=42)),\n",
    "    ('logreg', LogisticRegression(max_iter=1000))\n",
    "])"
   ]
  },
  {
   "cell_type": "code",
   "execution_count": 22,
   "id": "6353620b",
   "metadata": {},
   "outputs": [],
   "source": [
    "from sklearn.metrics import average_precision_score\n",
    "def logistic_with_smote(X, y, name):\n",
    "    X_train, X_test, y_train, y_test = train_test_split(\n",
    "        X, y, test_size=0.2, random_state=42, stratify=y\n",
    "    )\n",
    "\n",
    "    smote_pipe.fit(X_train, y_train)\n",
    "    y_pred = smote_pipe.predict(X_test)\n",
    "    y_prob = smote_pipe.predict_proba(X_test)[:, 1]   # probabilities for ROC/PR\n",
    "\n",
    "    print(f\"\\n--- Logistic Regression + SMOTE : {name} ---\")\n",
    "    print(\"Accuracy:\", accuracy_score(y_test, y_pred))\n",
    "    print(classification_report(y_test, y_pred))\n",
    "    print(\"F2 Score:\", fbeta_score(y_test, y_pred, beta=2))\n",
    "    print(\"ROC-AUC:\", roc_auc_score(y_test, y_prob))\n",
    "    print(\"PR-AUC:\", average_precision_score(y_test, y_prob))"
   ]
  },
  {
   "cell_type": "code",
   "execution_count": 23,
   "id": "ea610b45",
   "metadata": {},
   "outputs": [
    {
     "name": "stdout",
     "output_type": "stream",
     "text": [
      "\n",
      "--- Logistic Regression + SMOTE : Under-5 Mortality ---\n",
      "Accuracy: 0.9564772145417306\n",
      "              precision    recall  f1-score   support\n",
      "\n",
      "           0       1.00      0.96      0.98      3767\n",
      "           1       0.45      0.96      0.61       139\n",
      "\n",
      "    accuracy                           0.96      3906\n",
      "   macro avg       0.72      0.96      0.79      3906\n",
      "weighted avg       0.98      0.96      0.96      3906\n",
      "\n",
      "F2 Score: 0.779601406799531\n",
      "ROC-AUC: 0.9881572841010441\n",
      "PR-AUC: 0.6998693377442627\n",
      "\n",
      "--- Logistic Regression + SMOTE : Infant Mortality ---\n",
      "Accuracy: 0.9541730670762929\n",
      "              precision    recall  f1-score   support\n",
      "\n",
      "           0       1.00      0.96      0.98      3870\n",
      "           1       0.13      0.69      0.22        36\n",
      "\n",
      "    accuracy                           0.95      3906\n",
      "   macro avg       0.56      0.83      0.60      3906\n",
      "weighted avg       0.99      0.95      0.97      3906\n",
      "\n",
      "F2 Score: 0.37091988130563797\n",
      "ROC-AUC: 0.965798162503589\n",
      "PR-AUC: 0.16144678171847987\n",
      "\n",
      "--- Logistic Regression + SMOTE : Neonatal Mortality ---\n",
      "Accuracy: 0.9572452636968766\n",
      "              precision    recall  f1-score   support\n",
      "\n",
      "           0       1.00      0.96      0.98      3819\n",
      "           1       0.33      0.92      0.49        87\n",
      "\n",
      "    accuracy                           0.96      3906\n",
      "   macro avg       0.67      0.94      0.73      3906\n",
      "weighted avg       0.98      0.96      0.97      3906\n",
      "\n",
      "F2 Score: 0.6802721088435374\n",
      "ROC-AUC: 0.987049025892919\n",
      "PR-AUC: 0.6564598832233118\n"
     ]
    }
   ],
   "source": [
    "# Run for each target\n",
    "logistic_with_smote(X, df['under5_mortality'], 'Under-5 Mortality')\n",
    "logistic_with_smote(X, df['infant_mortality'], 'Infant Mortality')\n",
    "logistic_with_smote(X, df['neonatal_mortality'], 'Neonatal Mortality')"
   ]
  },
  {
   "cell_type": "code",
   "execution_count": 24,
   "id": "60a2d979",
   "metadata": {},
   "outputs": [],
   "source": [
    "from sklearn.model_selection import GridSearchCV, StratifiedKFold\n",
    "from sklearn.metrics import  make_scorer\n",
    "from sklearn.ensemble import RandomForestClassifier, GradientBoostingClassifier\n",
    "from xgboost import XGBClassifier"
   ]
  },
  {
   "cell_type": "code",
   "execution_count": 25,
   "id": "464e246b",
   "metadata": {},
   "outputs": [],
   "source": [
    "# --- Custom scorers focused on death detection ---\n",
    "def pr_auc_score(y_true, y_prob):\n",
    "    precision, recall, _ = precision_recall_curve(y_true, y_prob)\n",
    "    return auc(recall, precision)\n",
    "\n",
    "f2_scorer   = make_scorer(fbeta_score, beta=2)\n",
    "pr_auc_scorer = make_scorer(pr_auc_score, needs_proba=True)"
   ]
  },
  {
   "cell_type": "code",
   "execution_count": 26,
   "id": "96b4a29a",
   "metadata": {},
   "outputs": [],
   "source": [
    "# --- Cross-validation setup ---\n",
    "cv = StratifiedKFold(n_splits=3, shuffle=True, random_state=42)\n",
    "\n",
    "# --- Base pipeline with SMOTE inside ---\n",
    "base_pipe = Pipeline([\n",
    "    ('preprocessor', preprocessor),\n",
    "    ('smote', SMOTE(random_state=42, k_neighbors=1)),  # k_neighbors=1 handles very small minority counts\n",
    "    ('model', RandomForestClassifier())               # placeholder; will be overridden by param grid\n",
    "])"
   ]
  },
  {
   "cell_type": "code",
   "execution_count": 27,
   "id": "54f65108",
   "metadata": {},
   "outputs": [],
   "source": [
    "# --- Parameter grid for three algorithms ---\n",
    "param_grid = [\n",
    "    # Random Forest\n",
    "    {\n",
    "        'model': [RandomForestClassifier(random_state=42)],\n",
    "        'model__n_estimators': [100, 300],\n",
    "        'model__max_depth': [None, 10]\n",
    "    },\n",
    "    # Gradient Boosting\n",
    "    {\n",
    "        'model': [GradientBoostingClassifier(random_state=42)],\n",
    "        'model__n_estimators': [100, 300],\n",
    "        'model__learning_rate': [0.1, 0.05],\n",
    "        'model__max_depth': [3, 5]\n",
    "    },\n",
    "    # XGBoost\n",
    "    {\n",
    "        'model': [XGBClassifier(\n",
    "            use_label_encoder=False,\n",
    "            eval_metric='logloss',\n",
    "            random_state=42,\n",
    "            n_jobs=-1\n",
    "        )],\n",
    "        'model__n_estimators': [200, 400],\n",
    "        'model__max_depth': [3, 5],\n",
    "        'model__learning_rate': [0.1, 0.05]\n",
    "    }\n",
    "]"
   ]
  },
  {
   "cell_type": "code",
   "execution_count": 28,
   "id": "a42ccbe1",
   "metadata": {},
   "outputs": [],
   "source": [
    "# --- Grid search ---\n",
    "grid = GridSearchCV(\n",
    "    estimator=base_pipe,\n",
    "    param_grid=param_grid,\n",
    "    scoring={'F2': f2_scorer, 'PR-AUC': pr_auc_scorer},\n",
    "    refit='F2',        # best model chosen by F2\n",
    "    cv=cv,\n",
    "    n_jobs=-1,\n",
    "    verbose=1\n",
    ")"
   ]
  },
  {
   "cell_type": "code",
   "execution_count": 29,
   "id": "fbb323f0",
   "metadata": {},
   "outputs": [],
   "source": [
    "# === Function to train & evaluate for one target ===\n",
    "def train_eval_model(X, y, target_name):\n",
    "    grid.fit(X, y)\n",
    "\n",
    "    print(f\"\\n--- Best model for {target_name} ---\")\n",
    "    print(\"Estimator:\", grid.best_estimator_['model'])\n",
    "    print(\"Best F2:\", grid.best_score_)\n",
    "\n",
    "    # Evaluate on the hold-out folds already done in CV\n",
    "    # For a final external test set, split beforehand and call grid.score(X_test, y_test)\n",
    "\n",
    "    y_pred = grid.predict(X)\n",
    "    y_prob = grid.predict_proba(X)[:, 1]\n",
    "\n",
    "    print(\"\\nClassification Report:\")\n",
    "    print(classification_report(y, y_pred, digits=3))\n",
    "    print(\"Accuracy:\", accuracy_score(y, y_pred))\n",
    "    print(\"ROC-AUC:\", roc_auc_score(y, y_prob))\n",
    "    precision, recall, _ = precision_recall_curve(y, y_prob)\n",
    "    print(\"PR-AUC:\", auc(recall, precision))\n",
    "\n",
    "    # Confusion matrix\n",
    "    cm = confusion_matrix(y, y_pred)\n",
    "    plt.figure(figsize=(4,3))\n",
    "    sns.heatmap(cm, annot=True, fmt='d', cmap='Blues',\n",
    "                xticklabels=['Pred 0','Pred 1'],\n",
    "                yticklabels=['True 0','True 1'])\n",
    "    plt.title(f\"Confusion Matrix: {target_name}\")\n",
    "    plt.show()"
   ]
  },
  {
   "cell_type": "code",
   "execution_count": 30,
   "id": "673201b2",
   "metadata": {},
   "outputs": [
    {
     "name": "stdout",
     "output_type": "stream",
     "text": [
      "Fitting 3 folds for each of 20 candidates, totalling 60 fits\n"
     ]
    },
    {
     "name": "stderr",
     "output_type": "stream",
     "text": [
      "c:\\Users\\user\\anaconda3\\envs\\new-env\\Lib\\site-packages\\sklearn\\model_selection\\_search.py:1135: UserWarning: One or more of the test scores are non-finite: [nan nan nan nan nan nan nan nan nan nan nan nan nan nan nan nan nan nan\n",
      " nan nan]\n",
      "  warnings.warn(\n"
     ]
    },
    {
     "name": "stdout",
     "output_type": "stream",
     "text": [
      "\n",
      "--- Best model for Under-5 Mortality ---\n",
      "Estimator: RandomForestClassifier(max_depth=10, n_estimators=300, random_state=42)\n",
      "Best F2: 0.9810646940887243\n",
      "\n",
      "Classification Report:\n",
      "              precision    recall  f1-score   support\n",
      "\n",
      "           0      1.000     0.996     0.998     18836\n",
      "           1      0.912     1.000     0.954       694\n",
      "\n",
      "    accuracy                          0.997     19530\n",
      "   macro avg      0.956     0.998     0.976     19530\n",
      "weighted avg      0.997     0.997     0.997     19530\n",
      "\n",
      "Accuracy: 0.9965693804403482\n",
      "ROC-AUC: 0.9995215030632985\n",
      "PR-AUC: 0.9843279452227202\n"
     ]
    },
    {
     "data": {
      "image/png": "[encoded data removed]",
      "text/plain": [
       "<Figure size 400x300 with 2 Axes>"
      ]
     },
     "metadata": {},
     "output_type": "display_data"
    },
    {
     "name": "stdout",
     "output_type": "stream",
     "text": [
      "Fitting 3 folds for each of 20 candidates, totalling 60 fits\n"
     ]
    },
    {
     "name": "stderr",
     "output_type": "stream",
     "text": [
      "c:\\Users\\user\\anaconda3\\envs\\new-env\\Lib\\site-packages\\sklearn\\model_selection\\_search.py:1135: UserWarning: One or more of the test scores are non-finite: [nan nan nan nan nan nan nan nan nan nan nan nan nan nan nan nan nan nan\n",
      " nan nan]\n",
      "  warnings.warn(\n"
     ]
    },
    {
     "name": "stdout",
     "output_type": "stream",
     "text": [
      "\n",
      "--- Best model for Infant Mortality ---\n",
      "Estimator: GradientBoostingClassifier(learning_rate=0.05, random_state=42)\n",
      "Best F2: 0.6514557527134496\n",
      "\n",
      "Classification Report:\n",
      "              precision    recall  f1-score   support\n",
      "\n",
      "           0      1.000     0.977     0.988     19350\n",
      "           1      0.287     0.994     0.446       180\n",
      "\n",
      "    accuracy                          0.977     19530\n",
      "   macro avg      0.644     0.986     0.717     19530\n",
      "weighted avg      0.993     0.977     0.983     19530\n",
      "\n",
      "Accuracy: 0.9772145417306708\n",
      "ROC-AUC: 0.9931688199827735\n",
      "PR-AUC: 0.5070290701881448\n"
     ]
    },
    {
     "data": {
      "image/png": "[encoded data removed]",
      "text/plain": [
       "<Figure size 400x300 with 2 Axes>"
      ]
     },
     "metadata": {},
     "output_type": "display_data"
    },
    {
     "name": "stdout",
     "output_type": "stream",
     "text": [
      "Fitting 3 folds for each of 20 candidates, totalling 60 fits\n"
     ]
    },
    {
     "name": "stderr",
     "output_type": "stream",
     "text": [
      "c:\\Users\\user\\anaconda3\\envs\\new-env\\Lib\\site-packages\\sklearn\\model_selection\\_search.py:1135: UserWarning: One or more of the test scores are non-finite: [nan nan nan nan nan nan nan nan nan nan nan nan nan nan nan nan nan nan\n",
      " nan nan]\n",
      "  warnings.warn(\n"
     ]
    },
    {
     "name": "stdout",
     "output_type": "stream",
     "text": [
      "\n",
      "--- Best model for Neonatal Mortality ---\n",
      "Estimator: RandomForestClassifier(max_depth=10, n_estimators=300, random_state=42)\n",
      "Best F2: 0.8709581586372175\n",
      "\n",
      "Classification Report:\n",
      "              precision    recall  f1-score   support\n",
      "\n",
      "           0      1.000     0.983     0.991     19093\n",
      "           1      0.574     1.000     0.730       437\n",
      "\n",
      "    accuracy                          0.983     19530\n",
      "   macro avg      0.787     0.992     0.860     19530\n",
      "weighted avg      0.990     0.983     0.986     19530\n",
      "\n",
      "Accuracy: 0.9834101382488479\n",
      "ROC-AUC: 0.9981540433007604\n",
      "PR-AUC: 0.9200818925538592\n"
     ]
    },
    {
     "data": {
      "image/png": "[encoded data removed]",
      "text/plain": [
       "<Figure size 400x300 with 2 Axes>"
      ]
     },
     "metadata": {},
     "output_type": "display_data"
    }
   ],
   "source": [
    "train_eval_model(X, df['under5_mortality'], 'Under-5 Mortality')\n",
    "train_eval_model(X, df['infant_mortality'], 'Infant Mortality')\n",
    "train_eval_model(X, df['neonatal_mortality'], 'Neonatal Mortality')"
   ]
  },
  {
   "cell_type": "markdown",
   "id": "89e8b011",
   "metadata": {},
   "source": [
    "## Neural network"
   ]
  }
 ],
 "metadata": {
  "kernelspec": {
   "display_name": "new-env",
   "language": "python",
   "name": "python3"
  },
  "language_info": {
   "codemirror_mode": {
    "name": "ipython",
    "version": 3
   },
   "file_extension": ".py",
   "mimetype": "text/x-python",
   "name": "python",
   "nbconvert_exporter": "python",
   "pygments_lexer": "ipython3",
   "version": "3.12.11"
  }
 },
 "nbformat": 4,
 "nbformat_minor": 5
}
